{
 "cells": [
  {
   "cell_type": "code",
   "execution_count": 1,
   "id": "734ce47c-e9b7-4bf8-ba16-e85ccffab081",
   "metadata": {},
   "outputs": [],
   "source": [
    "import numpy as np"
   ]
  },
  {
   "cell_type": "code",
   "execution_count": 2,
   "id": "e7d127e3-705e-459c-bbea-970556d09f9c",
   "metadata": {},
   "outputs": [],
   "source": [
    "a = np.array([0, 1, 2, 3])"
   ]
  },
  {
   "cell_type": "code",
   "execution_count": 15,
   "id": "d1764a76-9fc4-4dbb-a972-99e0408a700c",
   "metadata": {},
   "outputs": [],
   "source": [
    "arr = np.array ([1, 2, 3, 4, 5, 6, 7, 8, 9])"
   ]
  },
  {
   "cell_type": "code",
   "execution_count": 20,
   "id": "db7f9006-e382-4697-89c4-1e9664762403",
   "metadata": {},
   "outputs": [
    {
     "data": {
      "text/plain": [
       "array([2, 3, 4, 5])"
      ]
     },
     "execution_count": 20,
     "metadata": {},
     "output_type": "execute_result"
    }
   ],
   "source": [
    "arr[1:5]"
   ]
  },
  {
   "cell_type": "code",
   "execution_count": 21,
   "id": "845ad11d-0629-4cfa-9fd7-4ff7c5735997",
   "metadata": {},
   "outputs": [
    {
     "name": "stdout",
     "output_type": "stream",
     "text": [
      "[3 4 5 6 7 8 9]\n"
     ]
    }
   ],
   "source": [
    "print(arr[2:])"
   ]
  },
  {
   "cell_type": "code",
   "execution_count": 30,
   "id": "c5bb750d-ea82-44f1-8604-8c188ed25d81",
   "metadata": {},
   "outputs": [
    {
     "data": {
      "text/plain": [
       "array([6, 5, 4, 3, 2, 1])"
      ]
     },
     "execution_count": 30,
     "metadata": {},
     "output_type": "execute_result"
    }
   ],
   "source": [
    "arr[5::-1]\n"
   ]
  },
  {
   "cell_type": "code",
   "execution_count": 32,
   "id": "c733eefd-4b2c-4646-b3a9-9d89519903d8",
   "metadata": {},
   "outputs": [],
   "source": [
    "a = np.array([[0, 1, 2],\n",
    "              [3, 4, 5],\n",
    "              [6, 7, 8]])"
   ]
  },
  {
   "cell_type": "code",
   "execution_count": 33,
   "id": "9bd17ed8-127d-4bbb-bf6b-eed5dbd29e03",
   "metadata": {},
   "outputs": [],
   "source": [
    "sub_copy_a = a[2:4, 1:].copy()"
   ]
  },
  {
   "cell_type": "code",
   "execution_count": 34,
   "id": "3bcd773c-5dd6-4827-98bc-2f826d95f957",
   "metadata": {},
   "outputs": [
    {
     "data": {
      "text/plain": [
       "array([[7, 8]])"
      ]
     },
     "execution_count": 34,
     "metadata": {},
     "output_type": "execute_result"
    }
   ],
   "source": [
    "sub_copy_a"
   ]
  },
  {
   "cell_type": "code",
   "execution_count": 35,
   "id": "1ca7d383-fde2-4f0c-8201-b6d9f96c8aad",
   "metadata": {},
   "outputs": [],
   "source": [
    "sub_copy_a[0, 0] = 10"
   ]
  },
  {
   "cell_type": "code",
   "execution_count": 36,
   "id": "ed97316a-3c12-4432-b038-b0fa2021fad7",
   "metadata": {},
   "outputs": [
    {
     "data": {
      "text/plain": [
       "array([[0, 1, 2],\n",
       "       [3, 4, 5],\n",
       "       [6, 7, 8]])"
      ]
     },
     "execution_count": 36,
     "metadata": {},
     "output_type": "execute_result"
    }
   ],
   "source": [
    "a"
   ]
  },
  {
   "cell_type": "code",
   "execution_count": 37,
   "id": "bdeb79c2-1265-4c0e-bcd2-cf485880f816",
   "metadata": {},
   "outputs": [
    {
     "data": {
      "text/plain": [
       "array([[10,  8]])"
      ]
     },
     "execution_count": 37,
     "metadata": {},
     "output_type": "execute_result"
    }
   ],
   "source": [
    "sub_copy_a"
   ]
  },
  {
   "cell_type": "code",
   "execution_count": 44,
   "id": "e4fae50b-0043-4eb9-b39c-e4688574d499",
   "metadata": {},
   "outputs": [
    {
     "name": "stdout",
     "output_type": "stream",
     "text": [
      "[[0 1 2 3 4 5 6 7 8]]\n"
     ]
    }
   ],
   "source": [
    "print(a.reshape(1, 9))"
   ]
  },
  {
   "cell_type": "code",
   "execution_count": 51,
   "id": "aeba8c23-17e3-4006-b6fd-02929faac35a",
   "metadata": {},
   "outputs": [
    {
     "data": {
      "text/plain": [
       "array([], shape=(1, 0), dtype=int64)"
      ]
     },
     "execution_count": 51,
     "metadata": {},
     "output_type": "execute_result"
    }
   ],
   "source": [
    "b = a[0:1, 4:]\n",
    "b"
   ]
  },
  {
   "cell_type": "code",
   "execution_count": 66,
   "id": "1b156ff5-1a87-464b-9ee4-cecf96b402bb",
   "metadata": {},
   "outputs": [
    {
     "data": {
      "text/plain": [
       "array([[ 0,  1,  2,  3],\n",
       "       [ 4,  5,  6,  7],\n",
       "       [ 8,  9, 10, 11],\n",
       "       [12, 13, 14, 15]])"
      ]
     },
     "execution_count": 66,
     "metadata": {},
     "output_type": "execute_result"
    }
   ],
   "source": [
    "a = np.arange(16)\n",
    "a = a.reshape(4, -1)\n",
    "a"
   ]
  },
  {
   "cell_type": "code",
   "execution_count": 70,
   "id": "1c69c31c-7c02-4987-a043-9baf7be987e2",
   "metadata": {},
   "outputs": [
    {
     "ename": "AttributeError",
     "evalue": "'numpy.ndarray' object has no attribute 'faltten'",
     "output_type": "error",
     "traceback": [
      "\u001b[0;31m---------------------------------------------------------------------------\u001b[0m",
      "\u001b[0;31mAttributeError\u001b[0m                            Traceback (most recent call last)",
      "Cell \u001b[0;32mIn[70], line 1\u001b[0m\n\u001b[0;32m----> 1\u001b[0m \u001b[43ma\u001b[49m\u001b[38;5;241;43m.\u001b[39;49m\u001b[43mfaltten\u001b[49m()\n",
      "\u001b[0;31mAttributeError\u001b[0m: 'numpy.ndarray' object has no attribute 'faltten'"
     ]
    }
   ],
   "source": [
    "a.faltten()"
   ]
  },
  {
   "cell_type": "code",
   "execution_count": null,
   "id": "8fe50c7c-edfe-4a5e-8c1d-002f735b8be6",
   "metadata": {},
   "outputs": [],
   "source": []
  },
  {
   "cell_type": "code",
   "execution_count": null,
   "id": "5c9e1384-cf0f-4916-94ae-7138b5d384f3",
   "metadata": {},
   "outputs": [],
   "source": []
  },
  {
   "cell_type": "code",
   "execution_count": null,
   "id": "a4aca0b6-1e4b-4487-9d3f-d79d76a8c422",
   "metadata": {},
   "outputs": [],
   "source": []
  },
  {
   "cell_type": "code",
   "execution_count": null,
   "id": "e8a5e03b-32d1-4811-93d5-abe8672b20ab",
   "metadata": {},
   "outputs": [],
   "source": []
  }
 ],
 "metadata": {
  "kernelspec": {
   "display_name": "Python 3 (ipykernel)",
   "language": "python",
   "name": "python3"
  },
  "language_info": {
   "codemirror_mode": {
    "name": "ipython",
    "version": 3
   },
   "file_extension": ".py",
   "mimetype": "text/x-python",
   "name": "python",
   "nbconvert_exporter": "python",
   "pygments_lexer": "ipython3",
   "version": "3.12.6"
  }
 },
 "nbformat": 4,
 "nbformat_minor": 5
}

{
 "cells": [
  {
   "cell_type": "code",
   "execution_count": 1,
   "id": "734ce47c-e9b7-4bf8-ba16-e85ccffab081",
   "metadata": {},
   "outputs": [],
   "source": [
    "import numpy as np"
   ]
  },
  {
   "cell_type": "code",
   "execution_count": 2,
   "id": "e7d127e3-705e-459c-bbea-970556d09f9c",
   "metadata": {},
   "outputs": [],
   "source": [
    "a = np.array([0, 1, 2, 3])"
   ]
  },
  {
   "cell_type": "code",
   "execution_count": 5,
   "id": "3efe26b6-eb6b-4f01-b8a5-12986c0e8645",
   "metadata": {},
   "outputs": [
    {
     "data": {
      "text/plain": [
       "array([0, 1, 2, 3])"
      ]
     },
     "execution_count": 5,
     "metadata": {},
     "output_type": "execute_result"
    }
   ],
   "source": [
    "a"
   ]
  },
  {
   "cell_type": "code",
   "execution_count": 6,
   "id": "ff1454f9-200d-4824-b10a-d9af6b6788bc",
   "metadata": {},
   "outputs": [
    {
     "name": "stdout",
     "output_type": "stream",
     "text": [
      "0\n"
     ]
    }
   ],
   "source": [
    "print(a[0])"
   ]
  },
  {
   "cell_type": "code",
   "execution_count": 16,
   "id": "4e26dddc-d154-4784-92a4-6d2b77f20227",
   "metadata": {},
   "outputs": [],
   "source": [
    "a = np.random.randint(0, 10, (3, 5, 4))\n"
   ]
  },
  {
   "cell_type": "code",
   "execution_count": 17,
   "id": "318be6d2-a442-40cb-9559-30c582389687",
   "metadata": {},
   "outputs": [
    {
     "name": "stdout",
     "output_type": "stream",
     "text": [
      "[[[8 7 5 6]\n",
      "  [1 7 1 8]\n",
      "  [7 2 9 6]\n",
      "  [7 7 5 3]\n",
      "  [8 7 7 9]]\n",
      "\n",
      " [[5 6 7 1]\n",
      "  [4 8 2 7]\n",
      "  [0 8 7 0]\n",
      "  [2 3 7 8]\n",
      "  [7 7 5 3]]\n",
      "\n",
      " [[0 7 6 5]\n",
      "  [9 9 0 1]\n",
      "  [0 8 5 9]\n",
      "  [1 5 3 9]\n",
      "  [4 8 6 1]]]\n"
     ]
    }
   ],
   "source": [
    "print(a)"
   ]
  },
  {
   "cell_type": "code",
   "execution_count": 18,
   "id": "54534c61-28f1-4038-aa12-1d0ca7a6f9ce",
   "metadata": {},
   "outputs": [
    {
     "name": "stdout",
     "output_type": "stream",
     "text": [
      "[1 5 3 9]\n"
     ]
    }
   ],
   "source": [
    "print(a[2, 3])"
   ]
  },
  {
   "cell_type": "code",
   "execution_count": 21,
   "id": "85959fd7-54ec-4822-8723-a60d6e54c8d4",
   "metadata": {},
   "outputs": [],
   "source": [
    "a[2, 3] = 90.90"
   ]
  },
  {
   "cell_type": "code",
   "execution_count": 22,
   "id": "ff6e4247-ac5d-48bf-8704-1331ee891ae6",
   "metadata": {},
   "outputs": [
    {
     "name": "stdout",
     "output_type": "stream",
     "text": [
      "[[[ 8  7  5  6]\n",
      "  [ 1  7  1  8]\n",
      "  [ 7  2  9  6]\n",
      "  [ 7  7  5  3]\n",
      "  [ 8  7  7  9]]\n",
      "\n",
      " [[ 5  6  7  1]\n",
      "  [ 4  8  2  7]\n",
      "  [ 0  8  7  0]\n",
      "  [ 2  3  7  8]\n",
      "  [ 7  7  5  3]]\n",
      "\n",
      " [[ 0  7  6  5]\n",
      "  [ 9  9  0  1]\n",
      "  [ 0  8  5  9]\n",
      "  [90 90 90 90]\n",
      "  [ 4  8  6  1]]]\n"
     ]
    }
   ],
   "source": [
    "print(a)"
   ]
  },
  {
   "cell_type": "code",
   "execution_count": null,
   "id": "42717d4e-a87a-4f94-84e5-6211417fcdb2",
   "metadata": {},
   "outputs": [],
   "source": []
  }
 ],
 "metadata": {
  "kernelspec": {
   "display_name": "Python 3 (ipykernel)",
   "language": "python",
   "name": "python3"
  },
  "language_info": {
   "codemirror_mode": {
    "name": "ipython",
    "version": 3
   },
   "file_extension": ".py",
   "mimetype": "text/x-python",
   "name": "python",
   "nbconvert_exporter": "python",
   "pygments_lexer": "ipython3",
   "version": "3.12.6"
  }
 },
 "nbformat": 4,
 "nbformat_minor": 5
}

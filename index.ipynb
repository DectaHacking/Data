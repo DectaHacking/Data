{
 "cells": [
  {
   "cell_type": "code",
   "execution_count": 3,
   "id": "aa3ca5dc-fddd-4e7e-b356-d296d93e62d4",
   "metadata": {},
   "outputs": [
    {
     "name": "stdout",
     "output_type": "stream",
     "text": [
      "5.11 ns ± 0.125 ns per loop (mean ± std. dev. of 7 runs, 100,000,000 loops each)\n"
     ]
    }
   ],
   "source": [
    "%timeit 2**10"
   ]
  },
  {
   "cell_type": "code",
   "execution_count": 9,
   "id": "c67c3d15-3a69-4ae5-b078-04a0b0035bc1",
   "metadata": {},
   "outputs": [],
   "source": [
    "def cube(x):\n",
    "    \"\"\"\n",
    "    return the cube of x.\n",
    "    \"\"\"\n",
    "    return x ** 3"
   ]
  },
  {
   "cell_type": "code",
   "execution_count": 6,
   "id": "4a13f5ed-31f2-4b5a-8318-db97cc5df63f",
   "metadata": {},
   "outputs": [],
   "source": [
    "myList = ['Ali', 'amin', 3]"
   ]
  },
  {
   "cell_type": "code",
   "execution_count": 11,
   "id": "ac17a071-1ce5-4fad-b37c-d8fb742db758",
   "metadata": {},
   "outputs": [
    {
     "data": {
      "text/plain": [
       "\u001b[0;31mType:\u001b[0m        list\n",
       "\u001b[0;31mString form:\u001b[0m ['Ali', 'amin', 3]\n",
       "\u001b[0;31mLength:\u001b[0m      3\n",
       "\u001b[0;31mDocstring:\u001b[0m  \n",
       "Built-in mutable sequence.\n",
       "\n",
       "If no argument is given, the constructor creates a new empty list.\n",
       "The argument must be an iterable if specified."
      ]
     },
     "metadata": {},
     "output_type": "display_data"
    }
   ],
   "source": [
    "??myList"
   ]
  },
  {
   "cell_type": "code",
   "execution_count": 10,
   "id": "b297e778-6b00-4334-82a5-ed1803595956",
   "metadata": {},
   "outputs": [
    {
     "data": {
      "text/plain": [
       "\u001b[0;31mSignature:\u001b[0m \u001b[0mcube\u001b[0m\u001b[0;34m(\u001b[0m\u001b[0mx\u001b[0m\u001b[0;34m)\u001b[0m\u001b[0;34m\u001b[0m\u001b[0;34m\u001b[0m\u001b[0m\n",
       "\u001b[0;31mSource:\u001b[0m   \n",
       "\u001b[0;32mdef\u001b[0m \u001b[0mcube\u001b[0m\u001b[0;34m(\u001b[0m\u001b[0mx\u001b[0m\u001b[0;34m)\u001b[0m\u001b[0;34m:\u001b[0m\u001b[0;34m\u001b[0m\n",
       "\u001b[0;34m\u001b[0m    \u001b[0;34m\"\"\"\u001b[0m\n",
       "\u001b[0;34m    return the cube of x.\u001b[0m\n",
       "\u001b[0;34m    \"\"\"\u001b[0m\u001b[0;34m\u001b[0m\n",
       "\u001b[0;34m\u001b[0m    \u001b[0;32mreturn\u001b[0m \u001b[0mx\u001b[0m \u001b[0;34m**\u001b[0m \u001b[0;36m3\u001b[0m\u001b[0;34m\u001b[0m\u001b[0;34m\u001b[0m\u001b[0m\n",
       "\u001b[0;31mFile:\u001b[0m      /tmp/ipykernel_6197/1023039599.py\n",
       "\u001b[0;31mType:\u001b[0m      function"
      ]
     },
     "metadata": {},
     "output_type": "display_data"
    }
   ],
   "source": [
    "??cube"
   ]
  },
  {
   "cell_type": "code",
   "execution_count": 3,
   "id": "ef89518e-eeda-497b-aac0-0f216e38f4db",
   "metadata": {},
   "outputs": [
    {
     "data": {
      "text/plain": [
       "'2.1.3'"
      ]
     },
     "execution_count": 3,
     "metadata": {},
     "output_type": "execute_result"
    }
   ],
   "source": [
    "import numpy as np\n",
    "np.__version__\n"
   ]
  },
  {
   "cell_type": "code",
   "execution_count": 4,
   "id": "7028ef57-a577-415f-a799-c63075f2c3d2",
   "metadata": {},
   "outputs": [
    {
     "data": {
      "text/plain": [
       "array([1, 2, 3])"
      ]
     },
     "execution_count": 4,
     "metadata": {},
     "output_type": "execute_result"
    }
   ],
   "source": [
    "np.array([1, 2, 3])"
   ]
  },
  {
   "cell_type": "code",
   "execution_count": 5,
   "id": "bff24760-dc11-4970-98be-2212374ce0c0",
   "metadata": {},
   "outputs": [
    {
     "data": {
      "text/plain": [
       "array([[1, 2],\n",
       "       [2, 3],\n",
       "       [3, 4]])"
      ]
     },
     "execution_count": 5,
     "metadata": {},
     "output_type": "execute_result"
    }
   ],
   "source": [
    "np.array([[1, 2], [2, 3], [3, 4]])"
   ]
  },
  {
   "cell_type": "code",
   "execution_count": 6,
   "id": "14fbfd75-9f96-4c14-8400-eb89d3a706ec",
   "metadata": {},
   "outputs": [
    {
     "data": {
      "text/plain": [
       "array([[['000', '001'],\n",
       "        ['010', '011']],\n",
       "\n",
       "       [['100', '101'],\n",
       "        ['110', '111']]], dtype='<U3')"
      ]
     },
     "execution_count": 6,
     "metadata": {},
     "output_type": "execute_result"
    }
   ],
   "source": [
    "np.array([[['000', '001'], ['010', '011']], [['100', '101'], ['110', '111']]])"
   ]
  },
  {
   "cell_type": "code",
   "execution_count": 7,
   "id": "ea50fff0-fefd-420f-8598-7b13b684b047",
   "metadata": {},
   "outputs": [
    {
     "data": {
      "text/plain": [
       "array([0., 0., 0.])"
      ]
     },
     "execution_count": 7,
     "metadata": {},
     "output_type": "execute_result"
    }
   ],
   "source": [
    "np.zeros(3)"
   ]
  },
  {
   "cell_type": "code",
   "execution_count": 11,
   "id": "a8aba941-bb59-4d8b-b92d-a4f0a3814ae2",
   "metadata": {},
   "outputs": [
    {
     "data": {
      "text/plain": [
       "array([[[[0., 0., 0.],\n",
       "         [0., 0., 0.],\n",
       "         [0., 0., 0.]],\n",
       "\n",
       "        [[0., 0., 0.],\n",
       "         [0., 0., 0.],\n",
       "         [0., 0., 0.]],\n",
       "\n",
       "        [[0., 0., 0.],\n",
       "         [0., 0., 0.],\n",
       "         [0., 0., 0.]]],\n",
       "\n",
       "\n",
       "       [[[0., 0., 0.],\n",
       "         [0., 0., 0.],\n",
       "         [0., 0., 0.]],\n",
       "\n",
       "        [[0., 0., 0.],\n",
       "         [0., 0., 0.],\n",
       "         [0., 0., 0.]],\n",
       "\n",
       "        [[0., 0., 0.],\n",
       "         [0., 0., 0.],\n",
       "         [0., 0., 0.]]],\n",
       "\n",
       "\n",
       "       [[[0., 0., 0.],\n",
       "         [0., 0., 0.],\n",
       "         [0., 0., 0.]],\n",
       "\n",
       "        [[0., 0., 0.],\n",
       "         [0., 0., 0.],\n",
       "         [0., 0., 0.]],\n",
       "\n",
       "        [[0., 0., 0.],\n",
       "         [0., 0., 0.],\n",
       "         [0., 0., 0.]]]])"
      ]
     },
     "execution_count": 11,
     "metadata": {},
     "output_type": "execute_result"
    }
   ],
   "source": [
    "np.zeros((3, 3, 3, 3))"
   ]
  },
  {
   "cell_type": "code",
   "execution_count": 12,
   "id": "75164060-221d-4abe-b448-08cd6c43c752",
   "metadata": {},
   "outputs": [
    {
     "data": {
      "text/plain": [
       "array([[[1.]]])"
      ]
     },
     "execution_count": 12,
     "metadata": {},
     "output_type": "execute_result"
    }
   ],
   "source": [
    "np.ones((1, 1, 1))"
   ]
  },
  {
   "cell_type": "code",
   "execution_count": 15,
   "id": "36f6149c-642c-4d18-b85a-faf299639aec",
   "metadata": {},
   "outputs": [
    {
     "data": {
      "text/plain": [
       "array([['#', '#'],\n",
       "       ['#', '#']], dtype='<U1')"
      ]
     },
     "execution_count": 15,
     "metadata": {},
     "output_type": "execute_result"
    }
   ],
   "source": [
    "np.full((2, 2), '#')"
   ]
  },
  {
   "cell_type": "code",
   "execution_count": 17,
   "id": "73c33feb-f585-422f-bfd4-bf62a0a55cb5",
   "metadata": {},
   "outputs": [
    {
     "data": {
      "text/plain": [
       "array([ 0,  4,  8, 12])"
      ]
     },
     "execution_count": 17,
     "metadata": {},
     "output_type": "execute_result"
    }
   ],
   "source": [
    "np.arange(0, 15, 4)"
   ]
  },
  {
   "cell_type": "code",
   "execution_count": 16,
   "id": "c637b725-3140-40d4-a3ce-5636d7d27577",
   "metadata": {},
   "outputs": [
    {
     "data": {
      "text/plain": [
       "array([   0.,  500., 1000., 1500., 2000.])"
      ]
     },
     "execution_count": 16,
     "metadata": {},
     "output_type": "execute_result"
    }
   ],
   "source": [
    "np.linspace(0, 2000, 5, )"
   ]
  },
  {
   "cell_type": "code",
   "execution_count": 18,
   "id": "a7c8d7a3-4067-4894-98a3-d594c8f739c9",
   "metadata": {},
   "outputs": [
    {
     "data": {
      "text/plain": [
       "array([[1., 0., 0., 0.],\n",
       "       [0., 1., 0., 0.],\n",
       "       [0., 0., 1., 0.],\n",
       "       [0., 0., 0., 1.]])"
      ]
     },
     "execution_count": 18,
     "metadata": {},
     "output_type": "execute_result"
    }
   ],
   "source": [
    "np.eye(4)"
   ]
  },
  {
   "cell_type": "code",
   "execution_count": 22,
   "id": "ba7c10c8-1788-460e-9a4c-ea095c66b028",
   "metadata": {},
   "outputs": [
    {
     "data": {
      "text/plain": [
       "array([1., 1., 1.])"
      ]
     },
     "execution_count": 22,
     "metadata": {},
     "output_type": "execute_result"
    }
   ],
   "source": [
    "np.empty(3)"
   ]
  },
  {
   "cell_type": "code",
   "execution_count": 27,
   "id": "a2760b81-9af5-4366-ae82-5c1522fb6164",
   "metadata": {},
   "outputs": [
    {
     "data": {
      "text/plain": [
       "array([0.59522854, 0.64805867, 0.5894743 ])"
      ]
     },
     "execution_count": 27,
     "metadata": {},
     "output_type": "execute_result"
    }
   ],
   "source": [
    "np.random.random(3)"
   ]
  },
  {
   "cell_type": "code",
   "execution_count": 25,
   "id": "cd7a7807-2255-44b8-8c9e-765e4a7386ab",
   "metadata": {},
   "outputs": [
    {
     "data": {
      "text/plain": [
       "array([[[ 0, 10,  3,  6,  2,  7],\n",
       "        [ 2,  0,  1, 11,  9,  9],\n",
       "        [ 6,  5, 11,  8,  4,  2]],\n",
       "\n",
       "       [[ 8,  9, 10,  6,  3,  1],\n",
       "        [ 8,  4, 10,  2,  2,  0],\n",
       "        [10,  1,  5, 11,  8,  6]]])"
      ]
     },
     "execution_count": 25,
     "metadata": {},
     "output_type": "execute_result"
    }
   ],
   "source": [
    "np.random.randint(0, 12, (2, 3, 6))"
   ]
  },
  {
   "cell_type": "code",
   "execution_count": 32,
   "id": "3cfa6f05-9ac4-49c2-9500-dfa51bce5a49",
   "metadata": {},
   "outputs": [
    {
     "data": {
      "text/plain": [
       "array([[ 0.3057443 ,  0.93970157,  0.11009533],\n",
       "       [ 0.17742482, -2.55953842, -1.89506309]])"
      ]
     },
     "execution_count": 32,
     "metadata": {},
     "output_type": "execute_result"
    }
   ],
   "source": [
    "np.random.normal(0, 1, (2, 3))"
   ]
  },
  {
   "cell_type": "code",
   "execution_count": 34,
   "id": "3bd79b32-7712-43ab-9d49-073562c7badc",
   "metadata": {},
   "outputs": [
    {
     "data": {
      "text/plain": [
       "array([[31., 31., 31.],\n",
       "       [31., 31., 31.],\n",
       "       [31., 31., 31.],\n",
       "       [31., 31., 31.]])"
      ]
     },
     "execution_count": 34,
     "metadata": {},
     "output_type": "execute_result"
    }
   ],
   "source": [
    "np.full_like(np.random.normal(0, 1, (4, 3)), 31)"
   ]
  },
  {
   "cell_type": "code",
   "execution_count": 41,
   "id": "d20d0901-9753-491e-92f4-7f68140040aa",
   "metadata": {},
   "outputs": [
    {
     "data": {
      "text/plain": [
       "array([['31.0', '31.0', '31.0'],\n",
       "       ['31.0', '31.0', '31.0'],\n",
       "       ['31.0', '31.0', '31.0'],\n",
       "       ['31.0', '31.0', '31.0']], dtype='<U32')"
      ]
     },
     "execution_count": 41,
     "metadata": {},
     "output_type": "execute_result"
    }
   ],
   "source": [
    "np.astype(np.full_like(np.random.normal(0, 1, (4, 3)), 31), str)"
   ]
  },
  {
   "cell_type": "code",
   "execution_count": 32,
   "id": "d4350aa1-503a-4de7-a2fa-dbf029d6aecc",
   "metadata": {},
   "outputs": [
    {
     "data": {
      "text/plain": [
       "array([[6, 6, 6, 6, 6, 6, 6, 6, 6, 6],\n",
       "       [6, 6, 6, 6, 6, 6, 6, 6, 6, 6],\n",
       "       [6, 6, 6, 6, 6, 6, 6, 6, 6, 6],\n",
       "       [6, 6, 6, 6, 6, 6, 6, 6, 6, 6],\n",
       "       [6, 6, 6, 6, 6, 6, 6, 6, 6, 6],\n",
       "       [6, 6, 6, 6, 6, 6, 6, 6, 6, 6],\n",
       "       [6, 6, 6, 6, 6, 6, 6, 6, 6, 6],\n",
       "       [6, 6, 6, 6, 6, 6, 6, 6, 6, 6],\n",
       "       [6, 6, 6, 6, 6, 6, 6, 6, 6, 6],\n",
       "       [6, 6, 6, 6, 6, 6, 6, 6, 6, 6]])"
      ]
     },
     "execution_count": 32,
     "metadata": {},
     "output_type": "execute_result"
    }
   ],
   "source": [
    "a = np.full_like(np.random.normal(0, 1, (10, 10)), np.random.randint(1, 10))\n",
    "np.array(a, int)"
   ]
  },
  {
   "cell_type": "code",
   "execution_count": 33,
   "id": "43b13709-db93-48a3-971a-b1a6e56c93ac",
   "metadata": {},
   "outputs": [
    {
     "data": {
      "text/plain": [
       "(10, 10)"
      ]
     },
     "execution_count": 33,
     "metadata": {},
     "output_type": "execute_result"
    }
   ],
   "source": [
    "a.shape"
   ]
  },
  {
   "cell_type": "code",
   "execution_count": 34,
   "id": "ad65b6d0-07d4-4b37-b421-b8e80c56876a",
   "metadata": {},
   "outputs": [
    {
     "data": {
      "text/plain": [
       "800"
      ]
     },
     "execution_count": 34,
     "metadata": {},
     "output_type": "execute_result"
    }
   ],
   "source": [
    "a.nbytes"
   ]
  },
  {
   "cell_type": "code",
   "execution_count": 38,
   "id": "79aa1e21-e780-450e-b6fe-ca40691ec854",
   "metadata": {},
   "outputs": [
    {
     "data": {
      "text/plain": [
       "dtype('float64')"
      ]
     },
     "execution_count": 38,
     "metadata": {},
     "output_type": "execute_result"
    }
   ],
   "source": [
    "a.dtype"
   ]
  },
  {
   "cell_type": "code",
   "execution_count": 40,
   "id": "deb15065-52b1-4d5b-b2c9-0ec99ffb2d35",
   "metadata": {},
   "outputs": [
    {
     "data": {
      "text/plain": [
       "array([6., 6., 6., 6., 6., 6., 6., 6., 6., 6.])"
      ]
     },
     "execution_count": 40,
     "metadata": {},
     "output_type": "execute_result"
    }
   ],
   "source": [
    "a[1]"
   ]
  },
  {
   "cell_type": "code",
   "execution_count": 43,
   "id": "17960805-0d87-4694-bd3a-afc7263f36ce",
   "metadata": {},
   "outputs": [
    {
     "data": {
      "text/plain": [
       "np.float64(6.0)"
      ]
     },
     "execution_count": 43,
     "metadata": {},
     "output_type": "execute_result"
    }
   ],
   "source": [
    "a[0, 3]"
   ]
  },
  {
   "cell_type": "code",
   "execution_count": null,
   "id": "57028c9e-95d8-4655-9f30-6408648c88f3",
   "metadata": {},
   "outputs": [],
   "source": []
  }
 ],
 "metadata": {
  "kernelspec": {
   "display_name": "Python 3 (ipykernel)",
   "language": "python",
   "name": "python3"
  },
  "language_info": {
   "codemirror_mode": {
    "name": "ipython",
    "version": 3
   },
   "file_extension": ".py",
   "mimetype": "text/x-python",
   "name": "python",
   "nbconvert_exporter": "python",
   "pygments_lexer": "ipython3",
   "version": "3.12.6"
  }
 },
 "nbformat": 4,
 "nbformat_minor": 5
}

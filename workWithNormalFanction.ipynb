{
 "cells": [
  {
   "cell_type": "code",
   "execution_count": 13,
   "metadata": {},
   "outputs": [
    {
     "name": "stdout",
     "output_type": "stream",
     "text": [
      "[41 31 60  8 23 27 57 71 26  3 40 78  1  5 65 47 22 69 59 47 64 40 29 50\n",
      " 18 14 72 44 98 86 38 84 58 41 79 93 59  2 74  2 15 16 18 90 41 13 51 33\n",
      "  2 94] [14 43 50 82 46 99 11 46 49 28 90 47 11 33  5 52 41 73 27  3 71 41  8 89\n",
      " 53 34 25 69 98 30 56 21  1 21 88 71 47  6 22 61 32 93 44 42 35 69 52 90\n",
      " 99 91]\n"
     ]
    }
   ],
   "source": [
    "import numpy as np\n",
    "\n",
    "a = np.random.randint(0, 100, 50)\n",
    "b = np.random.randint(0, 100, 50)\n",
    "print(a, b)\n"
   ]
  },
  {
   "cell_type": "code",
   "execution_count": 14,
   "metadata": {},
   "outputs": [
    {
     "name": "stdout",
     "output_type": "stream",
     "text": [
      "[ 55  74 110  90  69 126  68 117  75  31 130 125  12  38  70  99  63 142\n",
      "  86  50 135  81  37 139  71  48  97 113 196 116  94 105  59  62 167 164\n",
      " 106   8  96  63  47 109  62 132  76  82 103 123 101 185]\n"
     ]
    }
   ],
   "source": [
    "c = np.add(a, b)\n",
    "print(c)"
   ]
  },
  {
   "cell_type": "code",
   "execution_count": 15,
   "metadata": {},
   "outputs": [
    {
     "name": "stdout",
     "output_type": "stream",
     "text": [
      "[ 55  74 110  90  69 126  68 117  75  31 130 125  12  38  70  99  63 142\n",
      "  86  50 135  81  37 139  71  48  97 113 196 116  94 105  59  62 167 164\n",
      " 106   8  96  63  47 109  62 132  76  82 103 123 101 185]\n"
     ]
    }
   ],
   "source": [
    "c = a + b\n",
    "print(c)"
   ]
  },
  {
   "cell_type": "code",
   "execution_count": 16,
   "metadata": {},
   "outputs": [
    {
     "name": "stdout",
     "output_type": "stream",
     "text": [
      "[ 27 -12  10 -74 -23 -72  46  25 -23 -25 -50  31 -10 -28  60  -5 -19  -4\n",
      "  32  44  -7  -1  21 -39 -35 -20  47 -25   0  56 -18  63  57  20  -9  22\n",
      "  12  -4  52 -59 -17 -77 -26  48   6 -56  -1 -57 -97   3] \n",
      "\n",
      "[ 27 -12  10 -74 -23 -72  46  25 -23 -25 -50  31 -10 -28  60  -5 -19  -4\n",
      "  32  44  -7  -1  21 -39 -35 -20  47 -25   0  56 -18  63  57  20  -9  22\n",
      "  12  -4  52 -59 -17 -77 -26  48   6 -56  -1 -57 -97   3]\n"
     ]
    }
   ],
   "source": [
    "c = np.subtract(a, b)\n",
    "print(c, \"\\n\")\n",
    "c = a - b\n",
    "print(c)"
   ]
  },
  {
   "cell_type": "code",
   "execution_count": 17,
   "metadata": {},
   "outputs": [
    {
     "name": "stdout",
     "output_type": "stream",
     "text": [
      "[ 574 1333 3000  656 1058 2673  627 3266 1274   84 3600 3666   11  165\n",
      "  325 2444  902 5037 1593  141 4544 1640  232 4450  954  476 1800 3036\n",
      " 9604 2580 2128 1764   58  861 6952 6603 2773   12 1628  122  480 1488\n",
      "  792 3780 1435  897 2652 2970  198 8554] \n",
      "\n",
      "[ 574 1333 3000  656 1058 2673  627 3266 1274   84 3600 3666   11  165\n",
      "  325 2444  902 5037 1593  141 4544 1640  232 4450  954  476 1800 3036\n",
      " 9604 2580 2128 1764   58  861 6952 6603 2773   12 1628  122  480 1488\n",
      "  792 3780 1435  897 2652 2970  198 8554]\n"
     ]
    }
   ],
   "source": [
    "c = np.multiply(a, b)\n",
    "print(c, \"\\n\")\n",
    "c = a * b\n",
    "print(c)"
   ]
  },
  {
   "cell_type": "code",
   "execution_count": 18,
   "metadata": {},
   "outputs": [
    {
     "name": "stdout",
     "output_type": "stream",
     "text": [
      "[2.92857143e+00 7.20930233e-01 1.20000000e+00 9.75609756e-02\n",
      " 5.00000000e-01 2.72727273e-01 5.18181818e+00 1.54347826e+00\n",
      " 5.30612245e-01 1.07142857e-01 4.44444444e-01 1.65957447e+00\n",
      " 9.09090909e-02 1.51515152e-01 1.30000000e+01 9.03846154e-01\n",
      " 5.36585366e-01 9.45205479e-01 2.18518519e+00 1.56666667e+01\n",
      " 9.01408451e-01 9.75609756e-01 3.62500000e+00 5.61797753e-01\n",
      " 3.39622642e-01 4.11764706e-01 2.88000000e+00 6.37681159e-01\n",
      " 1.00000000e+00 2.86666667e+00 6.78571429e-01 4.00000000e+00\n",
      " 5.80000000e+01 1.95238095e+00 8.97727273e-01 1.30985915e+00\n",
      " 1.25531915e+00 3.33333333e-01 3.36363636e+00 3.27868852e-02\n",
      " 4.68750000e-01 1.72043011e-01 4.09090909e-01 2.14285714e+00\n",
      " 1.17142857e+00 1.88405797e-01 9.80769231e-01 3.66666667e-01\n",
      " 2.02020202e-02 1.03296703e+00] \n",
      "\n",
      "[2.92857143e+00 7.20930233e-01 1.20000000e+00 9.75609756e-02\n",
      " 5.00000000e-01 2.72727273e-01 5.18181818e+00 1.54347826e+00\n",
      " 5.30612245e-01 1.07142857e-01 4.44444444e-01 1.65957447e+00\n",
      " 9.09090909e-02 1.51515152e-01 1.30000000e+01 9.03846154e-01\n",
      " 5.36585366e-01 9.45205479e-01 2.18518519e+00 1.56666667e+01\n",
      " 9.01408451e-01 9.75609756e-01 3.62500000e+00 5.61797753e-01\n",
      " 3.39622642e-01 4.11764706e-01 2.88000000e+00 6.37681159e-01\n",
      " 1.00000000e+00 2.86666667e+00 6.78571429e-01 4.00000000e+00\n",
      " 5.80000000e+01 1.95238095e+00 8.97727273e-01 1.30985915e+00\n",
      " 1.25531915e+00 3.33333333e-01 3.36363636e+00 3.27868852e-02\n",
      " 4.68750000e-01 1.72043011e-01 4.09090909e-01 2.14285714e+00\n",
      " 1.17142857e+00 1.88405797e-01 9.80769231e-01 3.66666667e-01\n",
      " 2.02020202e-02 1.03296703e+00]\n"
     ]
    }
   ],
   "source": [
    "c = np.divide(a, b)\n",
    "print(c, \"\\n\")\n",
    "c = a / b\n",
    "print(c)"
   ]
  },
  {
   "cell_type": "code",
   "execution_count": 27,
   "metadata": {},
   "outputs": [
    {
     "data": {
      "text/plain": [
       "array([ -8,  -2,   6, -10,  -4])"
      ]
     },
     "execution_count": 27,
     "metadata": {},
     "output_type": "execute_result"
    }
   ],
   "source": [
    "index = np.random.randint(-10, 10, 5)\n",
    "index"
   ]
  },
  {
   "cell_type": "code",
   "execution_count": 28,
   "metadata": {},
   "outputs": [
    {
     "name": "stdout",
     "output_type": "stream",
     "text": [
      "[ 8  2  6 10  4] \n",
      " [       nan        nan 2.44948974        nan        nan] \n",
      " [ 64   4  36 100  16] \n",
      " [False False False False False]\n"
     ]
    },
    {
     "name": "stderr",
     "output_type": "stream",
     "text": [
      "/tmp/ipykernel_16767/920654753.py:1: RuntimeWarning: invalid value encountered in sqrt\n",
      "  print(np.abs(index), \"\\n\", np.sqrt(index), \"\\n\", np.square(index), \"\\n\", np.isnan(index))\n"
     ]
    }
   ],
   "source": []
  },
  {
   "cell_type": "code",
   "execution_count": 29,
   "metadata": {},
   "outputs": [
    {
     "data": {
      "text/plain": [
       "array([False, False, False, False, False])"
      ]
     },
     "execution_count": 29,
     "metadata": {},
     "output_type": "execute_result"
    }
   ],
   "source": [
    "np.isnan(index)"
   ]
  },
  {
   "cell_type": "code",
   "execution_count": 30,
   "metadata": {},
   "outputs": [
    {
     "data": {
      "text/plain": [
       "array([ 64,   4,  36, 100,  16])"
      ]
     },
     "execution_count": 30,
     "metadata": {},
     "output_type": "execute_result"
    }
   ],
   "source": [
    "np.square(index)"
   ]
  },
  {
   "cell_type": "code",
   "execution_count": 31,
   "metadata": {},
   "outputs": [
    {
     "name": "stderr",
     "output_type": "stream",
     "text": [
      "/tmp/ipykernel_16767/210181419.py:1: RuntimeWarning: invalid value encountered in sqrt\n",
      "  np.sqrt(index)\n"
     ]
    },
    {
     "data": {
      "text/plain": [
       "array([       nan,        nan, 2.44948974,        nan,        nan])"
      ]
     },
     "execution_count": 31,
     "metadata": {},
     "output_type": "execute_result"
    }
   ],
   "source": [
    "np.sqrt(index)"
   ]
  },
  {
   "cell_type": "code",
   "execution_count": 37,
   "metadata": {},
   "outputs": [],
   "source": [
    "a = np.abs(index)\n",
    "a.sort()"
   ]
  },
  {
   "cell_type": "code",
   "execution_count": 38,
   "metadata": {},
   "outputs": [
    {
     "data": {
      "text/plain": [
       "array([ 2,  4,  6,  8, 10])"
      ]
     },
     "execution_count": 38,
     "metadata": {},
     "output_type": "execute_result"
    }
   ],
   "source": [
    "a"
   ]
  },
  {
   "cell_type": "code",
   "execution_count": null,
   "metadata": {},
   "outputs": [],
   "source": []
  }
 ],
 "metadata": {
  "kernelspec": {
   "display_name": "denv",
   "language": "python",
   "name": "python3"
  },
  "language_info": {
   "codemirror_mode": {
    "name": "ipython",
    "version": 3
   },
   "file_extension": ".py",
   "mimetype": "text/x-python",
   "name": "python",
   "nbconvert_exporter": "python",
   "pygments_lexer": "ipython3",
   "version": "3.12.6"
  }
 },
 "nbformat": 4,
 "nbformat_minor": 2
}
